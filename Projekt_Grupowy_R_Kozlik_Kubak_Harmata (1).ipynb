{
 "cells": [
  {
   "cell_type": "markdown",
   "id": "5dd7cb7d",
   "metadata": {},
   "source": [
    "# Projekt Grupowy Języki Skryptowe w Analizie Danych - R\n",
    "Wykonali: **Filip Koźlik**, **Wojciech Kubak**, **Wojciech Harmata** \\\n",
    "**Informatyka NS RMS sem. V**"
   ]
  },
  {
   "cell_type": "markdown",
   "id": "e5d5bfc1",
   "metadata": {},
   "source": [
    "# Wczytanie i przedstawienie zbioru danych \n",
    "**Wojciech Harmata**"
   ]
  },
  {
   "cell_type": "markdown",
   "id": "6917394a",
   "metadata": {},
   "source": [
    "**Opis wykorzystanych modułów**:\n",
    "1. dplyr - filtrowanie informacji na podstawie zbioru daych.\n",
    "2. RColorBrewer - ustawienie palety barw.\n",
    "3. tidyverse - wykresy z użyciem modułu ggplot.\n",
    "4. plyr - heatmapy."
   ]
  },
  {
   "cell_type": "code",
   "execution_count": 101,
   "id": "df661410",
   "metadata": {},
   "outputs": [],
   "source": [
    "df <- read.csv(\"insurance.csv\", stringsAsFactors = FALSE)"
   ]
  },
  {
   "cell_type": "markdown",
   "id": "38fae672",
   "metadata": {},
   "source": [
    "**Przedstawienie zbioru danych**"
   ]
  },
  {
   "cell_type": "code",
   "execution_count": 102,
   "id": "87064cc3",
   "metadata": {},
   "outputs": [
    {
     "data": {
      "text/html": [
       "<table>\n",
       "<thead><tr><th scope=col>age</th><th scope=col>sex</th><th scope=col>bmi</th><th scope=col>children</th><th scope=col>smoker</th><th scope=col>region</th><th scope=col>charges</th></tr></thead>\n",
       "<tbody>\n",
       "\t<tr><td>19       </td><td>female   </td><td>27.900   </td><td>0        </td><td>yes      </td><td>southwest</td><td>16884.924</td></tr>\n",
       "\t<tr><td>18       </td><td>male     </td><td>33.770   </td><td>1        </td><td>no       </td><td>southeast</td><td> 1725.552</td></tr>\n",
       "\t<tr><td>28       </td><td>male     </td><td>33.000   </td><td>3        </td><td>no       </td><td>southeast</td><td> 4449.462</td></tr>\n",
       "\t<tr><td>33       </td><td>male     </td><td>22.705   </td><td>0        </td><td>no       </td><td>northwest</td><td>21984.471</td></tr>\n",
       "\t<tr><td>32       </td><td>male     </td><td>28.880   </td><td>0        </td><td>no       </td><td>northwest</td><td> 3866.855</td></tr>\n",
       "\t<tr><td>31       </td><td>female   </td><td>25.740   </td><td>0        </td><td>no       </td><td>southeast</td><td> 3756.622</td></tr>\n",
       "</tbody>\n",
       "</table>\n"
      ],
      "text/latex": [
       "\\begin{tabular}{r|lllllll}\n",
       " age & sex & bmi & children & smoker & region & charges\\\\\n",
       "\\hline\n",
       "\t 19        & female    & 27.900    & 0         & yes       & southwest & 16884.924\\\\\n",
       "\t 18        & male      & 33.770    & 1         & no        & southeast &  1725.552\\\\\n",
       "\t 28        & male      & 33.000    & 3         & no        & southeast &  4449.462\\\\\n",
       "\t 33        & male      & 22.705    & 0         & no        & northwest & 21984.471\\\\\n",
       "\t 32        & male      & 28.880    & 0         & no        & northwest &  3866.855\\\\\n",
       "\t 31        & female    & 25.740    & 0         & no        & southeast &  3756.622\\\\\n",
       "\\end{tabular}\n"
      ],
      "text/markdown": [
       "\n",
       "| age | sex | bmi | children | smoker | region | charges |\n",
       "|---|---|---|---|---|---|---|\n",
       "| 19        | female    | 27.900    | 0         | yes       | southwest | 16884.924 |\n",
       "| 18        | male      | 33.770    | 1         | no        | southeast |  1725.552 |\n",
       "| 28        | male      | 33.000    | 3         | no        | southeast |  4449.462 |\n",
       "| 33        | male      | 22.705    | 0         | no        | northwest | 21984.471 |\n",
       "| 32        | male      | 28.880    | 0         | no        | northwest |  3866.855 |\n",
       "| 31        | female    | 25.740    | 0         | no        | southeast |  3756.622 |\n",
       "\n"
      ],
      "text/plain": [
       "  age sex    bmi    children smoker region    charges  \n",
       "1 19  female 27.900 0        yes    southwest 16884.924\n",
       "2 18  male   33.770 1        no     southeast  1725.552\n",
       "3 28  male   33.000 3        no     southeast  4449.462\n",
       "4 33  male   22.705 0        no     northwest 21984.471\n",
       "5 32  male   28.880 0        no     northwest  3866.855\n",
       "6 31  female 25.740 0        no     southeast  3756.622"
      ]
     },
     "metadata": {},
     "output_type": "display_data"
    }
   ],
   "source": [
    "head(df)"
   ]
  },
  {
   "cell_type": "markdown",
   "id": "8c20f42f",
   "metadata": {},
   "source": [
    "**Opis kolumn**:\n",
    "1. **age** - wiek osoby.\n",
    "2. **sex** - płeć osoby.\n",
    "3. **bmi** - body mass index.\n",
    "4. **children** - czy osoba posiada potomstwo.\n",
    "5. **smoker** - czy osoba jest palaczem.\n",
    "6. **region** - region zamieszkania.\n",
    "7. **charges** - koszt ubezpieczenia zdrowotnego."
   ]
  },
  {
   "cell_type": "code",
   "execution_count": 103,
   "id": "0a923df6",
   "metadata": {},
   "outputs": [
    {
     "data": {
      "text/html": [
       "<ol class=list-inline>\n",
       "\t<li>'age'</li>\n",
       "\t<li>'sex'</li>\n",
       "\t<li>'bmi'</li>\n",
       "\t<li>'children'</li>\n",
       "\t<li>'smoker'</li>\n",
       "\t<li>'region'</li>\n",
       "\t<li>'charges'</li>\n",
       "</ol>\n"
      ],
      "text/latex": [
       "\\begin{enumerate*}\n",
       "\\item 'age'\n",
       "\\item 'sex'\n",
       "\\item 'bmi'\n",
       "\\item 'children'\n",
       "\\item 'smoker'\n",
       "\\item 'region'\n",
       "\\item 'charges'\n",
       "\\end{enumerate*}\n"
      ],
      "text/markdown": [
       "1. 'age'\n",
       "2. 'sex'\n",
       "3. 'bmi'\n",
       "4. 'children'\n",
       "5. 'smoker'\n",
       "6. 'region'\n",
       "7. 'charges'\n",
       "\n",
       "\n"
      ],
      "text/plain": [
       "[1] \"age\"      \"sex\"      \"bmi\"      \"children\" \"smoker\"   \"region\"   \"charges\" "
      ]
     },
     "metadata": {},
     "output_type": "display_data"
    }
   ],
   "source": [
    "colnames(df)"
   ]
  },
  {
   "cell_type": "markdown",
   "id": "d1dbcdce",
   "metadata": {},
   "source": [
    "**Podstawowe informacje o zbiorze danych**"
   ]
  },
  {
   "cell_type": "code",
   "execution_count": 104,
   "id": "ff4706af",
   "metadata": {},
   "outputs": [
    {
     "data": {
      "text/plain": [
       "      age            sex                 bmi           children    \n",
       " Min.   :18.00   Length:1338        Min.   :15.96   Min.   :0.000  \n",
       " 1st Qu.:27.00   Class :character   1st Qu.:26.30   1st Qu.:0.000  \n",
       " Median :39.00   Mode  :character   Median :30.40   Median :1.000  \n",
       " Mean   :39.21                      Mean   :30.66   Mean   :1.095  \n",
       " 3rd Qu.:51.00                      3rd Qu.:34.69   3rd Qu.:2.000  \n",
       " Max.   :64.00                      Max.   :53.13   Max.   :5.000  \n",
       "    smoker             region             charges     \n",
       " Length:1338        Length:1338        Min.   : 1122  \n",
       " Class :character   Class :character   1st Qu.: 4740  \n",
       " Mode  :character   Mode  :character   Median : 9382  \n",
       "                                       Mean   :13270  \n",
       "                                       3rd Qu.:16640  \n",
       "                                       Max.   :63770  "
      ]
     },
     "metadata": {},
     "output_type": "display_data"
    }
   ],
   "source": [
    "summary(df)"
   ]
  },
  {
   "cell_type": "markdown",
   "id": "fa0affdc",
   "metadata": {},
   "source": [
    "# Analiza i selekcja zbioru danych"
   ]
  },
  {
   "cell_type": "markdown",
   "id": "bc749d20",
   "metadata": {},
   "source": [
    "# Analiza palaczy o BMI powyżej 25\n",
    "**Filip Koźlik**"
   ]
  },
  {
   "cell_type": "markdown",
   "id": "ccb4ba92",
   "metadata": {},
   "source": [
    "**Znalezienie palaczy** \\\n",
    "Załadowanie modułu dplyr"
   ]
  },
  {
   "cell_type": "code",
   "execution_count": 105,
   "id": "b6f07d4b",
   "metadata": {},
   "outputs": [],
   "source": [
    "library(dplyr)"
   ]
  },
  {
   "cell_type": "code",
   "execution_count": 106,
   "id": "787ce635",
   "metadata": {},
   "outputs": [],
   "source": [
    "df_smokers <- filter(df, smoker == \"yes\")"
   ]
  },
  {
   "cell_type": "code",
   "execution_count": 107,
   "id": "0685f8ad",
   "metadata": {},
   "outputs": [
    {
     "data": {
      "text/html": [
       "<table>\n",
       "<thead><tr><th scope=col>age</th><th scope=col>sex</th><th scope=col>bmi</th><th scope=col>children</th><th scope=col>smoker</th><th scope=col>region</th><th scope=col>charges</th></tr></thead>\n",
       "<tbody>\n",
       "\t<tr><td>19       </td><td>female   </td><td>27.90    </td><td>0        </td><td>yes      </td><td>southwest</td><td>16884.92 </td></tr>\n",
       "\t<tr><td>62       </td><td>female   </td><td>26.29    </td><td>0        </td><td>yes      </td><td>southeast</td><td>27808.73 </td></tr>\n",
       "\t<tr><td>27       </td><td>male     </td><td>42.13    </td><td>0        </td><td>yes      </td><td>southeast</td><td>39611.76 </td></tr>\n",
       "\t<tr><td>30       </td><td>male     </td><td>35.30    </td><td>0        </td><td>yes      </td><td>southwest</td><td>36837.47 </td></tr>\n",
       "\t<tr><td>34       </td><td>female   </td><td>31.92    </td><td>1        </td><td>yes      </td><td>northeast</td><td>37701.88 </td></tr>\n",
       "\t<tr><td>31       </td><td>male     </td><td>36.30    </td><td>2        </td><td>yes      </td><td>southwest</td><td>38711.00 </td></tr>\n",
       "</tbody>\n",
       "</table>\n"
      ],
      "text/latex": [
       "\\begin{tabular}{r|lllllll}\n",
       " age & sex & bmi & children & smoker & region & charges\\\\\n",
       "\\hline\n",
       "\t 19        & female    & 27.90     & 0         & yes       & southwest & 16884.92 \\\\\n",
       "\t 62        & female    & 26.29     & 0         & yes       & southeast & 27808.73 \\\\\n",
       "\t 27        & male      & 42.13     & 0         & yes       & southeast & 39611.76 \\\\\n",
       "\t 30        & male      & 35.30     & 0         & yes       & southwest & 36837.47 \\\\\n",
       "\t 34        & female    & 31.92     & 1         & yes       & northeast & 37701.88 \\\\\n",
       "\t 31        & male      & 36.30     & 2         & yes       & southwest & 38711.00 \\\\\n",
       "\\end{tabular}\n"
      ],
      "text/markdown": [
       "\n",
       "| age | sex | bmi | children | smoker | region | charges |\n",
       "|---|---|---|---|---|---|---|\n",
       "| 19        | female    | 27.90     | 0         | yes       | southwest | 16884.92  |\n",
       "| 62        | female    | 26.29     | 0         | yes       | southeast | 27808.73  |\n",
       "| 27        | male      | 42.13     | 0         | yes       | southeast | 39611.76  |\n",
       "| 30        | male      | 35.30     | 0         | yes       | southwest | 36837.47  |\n",
       "| 34        | female    | 31.92     | 1         | yes       | northeast | 37701.88  |\n",
       "| 31        | male      | 36.30     | 2         | yes       | southwest | 38711.00  |\n",
       "\n"
      ],
      "text/plain": [
       "  age sex    bmi   children smoker region    charges \n",
       "1 19  female 27.90 0        yes    southwest 16884.92\n",
       "2 62  female 26.29 0        yes    southeast 27808.73\n",
       "3 27  male   42.13 0        yes    southeast 39611.76\n",
       "4 30  male   35.30 0        yes    southwest 36837.47\n",
       "5 34  female 31.92 1        yes    northeast 37701.88\n",
       "6 31  male   36.30 2        yes    southwest 38711.00"
      ]
     },
     "metadata": {},
     "output_type": "display_data"
    }
   ],
   "source": [
    "head(df_smokers)"
   ]
  },
  {
   "cell_type": "markdown",
   "id": "e0519465",
   "metadata": {},
   "source": [
    "**Palacze, z bmi >= 25**"
   ]
  },
  {
   "cell_type": "code",
   "execution_count": 108,
   "id": "6a9ebf57",
   "metadata": {},
   "outputs": [],
   "source": [
    "NORM_BMI <- 25\n",
    "df_smokers_bmi <- filter(df_smokers, bmi >= NORM_BMI)"
   ]
  },
  {
   "cell_type": "code",
   "execution_count": 109,
   "id": "e5c97140",
   "metadata": {},
   "outputs": [
    {
     "data": {
      "text/html": [
       "<table>\n",
       "<thead><tr><th scope=col>age</th><th scope=col>sex</th><th scope=col>bmi</th><th scope=col>children</th><th scope=col>smoker</th><th scope=col>region</th><th scope=col>charges</th></tr></thead>\n",
       "<tbody>\n",
       "\t<tr><td>19       </td><td>female   </td><td>27.90    </td><td>0        </td><td>yes      </td><td>southwest</td><td>16884.92 </td></tr>\n",
       "\t<tr><td>62       </td><td>female   </td><td>26.29    </td><td>0        </td><td>yes      </td><td>southeast</td><td>27808.73 </td></tr>\n",
       "\t<tr><td>27       </td><td>male     </td><td>42.13    </td><td>0        </td><td>yes      </td><td>southeast</td><td>39611.76 </td></tr>\n",
       "\t<tr><td>30       </td><td>male     </td><td>35.30    </td><td>0        </td><td>yes      </td><td>southwest</td><td>36837.47 </td></tr>\n",
       "\t<tr><td>34       </td><td>female   </td><td>31.92    </td><td>1        </td><td>yes      </td><td>northeast</td><td>37701.88 </td></tr>\n",
       "\t<tr><td>31       </td><td>male     </td><td>36.30    </td><td>2        </td><td>yes      </td><td>southwest</td><td>38711.00 </td></tr>\n",
       "</tbody>\n",
       "</table>\n"
      ],
      "text/latex": [
       "\\begin{tabular}{r|lllllll}\n",
       " age & sex & bmi & children & smoker & region & charges\\\\\n",
       "\\hline\n",
       "\t 19        & female    & 27.90     & 0         & yes       & southwest & 16884.92 \\\\\n",
       "\t 62        & female    & 26.29     & 0         & yes       & southeast & 27808.73 \\\\\n",
       "\t 27        & male      & 42.13     & 0         & yes       & southeast & 39611.76 \\\\\n",
       "\t 30        & male      & 35.30     & 0         & yes       & southwest & 36837.47 \\\\\n",
       "\t 34        & female    & 31.92     & 1         & yes       & northeast & 37701.88 \\\\\n",
       "\t 31        & male      & 36.30     & 2         & yes       & southwest & 38711.00 \\\\\n",
       "\\end{tabular}\n"
      ],
      "text/markdown": [
       "\n",
       "| age | sex | bmi | children | smoker | region | charges |\n",
       "|---|---|---|---|---|---|---|\n",
       "| 19        | female    | 27.90     | 0         | yes       | southwest | 16884.92  |\n",
       "| 62        | female    | 26.29     | 0         | yes       | southeast | 27808.73  |\n",
       "| 27        | male      | 42.13     | 0         | yes       | southeast | 39611.76  |\n",
       "| 30        | male      | 35.30     | 0         | yes       | southwest | 36837.47  |\n",
       "| 34        | female    | 31.92     | 1         | yes       | northeast | 37701.88  |\n",
       "| 31        | male      | 36.30     | 2         | yes       | southwest | 38711.00  |\n",
       "\n"
      ],
      "text/plain": [
       "  age sex    bmi   children smoker region    charges \n",
       "1 19  female 27.90 0        yes    southwest 16884.92\n",
       "2 62  female 26.29 0        yes    southeast 27808.73\n",
       "3 27  male   42.13 0        yes    southeast 39611.76\n",
       "4 30  male   35.30 0        yes    southwest 36837.47\n",
       "5 34  female 31.92 1        yes    northeast 37701.88\n",
       "6 31  male   36.30 2        yes    southwest 38711.00"
      ]
     },
     "metadata": {},
     "output_type": "display_data"
    }
   ],
   "source": [
    "head(df_smokers_bmi)"
   ]
  },
  {
   "cell_type": "markdown",
   "id": "ae7cf674",
   "metadata": {},
   "source": [
    "**Utworzenie backetów dla kolumny charges**"
   ]
  },
  {
   "cell_type": "code",
   "execution_count": 110,
   "id": "9848d627",
   "metadata": {},
   "outputs": [],
   "source": [
    "min_charge <- min(df_smokers_bmi$charges)\n",
    "max_charge <- max(df_smokers_bmi$charges)\n",
    "\n",
    "charge_diff <- (max_charge - min_charge)/5\n",
    "bucket_v <- c()\n",
    "values <- c(min_charge + charge_diff*1, min_charge + charge_diff*2, min_charge + charge_diff*3, min_charge + charge_diff*4, min_charge + charge_diff*5)\n",
    "for(i in 1:length(values))\n",
    "    {\n",
    "    bucket_v[i] <- values[i]\n",
    "}"
   ]
  },
  {
   "cell_type": "code",
   "execution_count": 111,
   "id": "580ef8fa",
   "metadata": {},
   "outputs": [
    {
     "data": {
      "text/html": [
       "<ol class=list-inline>\n",
       "\t<li>25168.629802</li>\n",
       "\t<li>34819.079354</li>\n",
       "\t<li>44469.528906</li>\n",
       "\t<li>54119.978458</li>\n",
       "\t<li>63770.42801</li>\n",
       "</ol>\n"
      ],
      "text/latex": [
       "\\begin{enumerate*}\n",
       "\\item 25168.629802\n",
       "\\item 34819.079354\n",
       "\\item 44469.528906\n",
       "\\item 54119.978458\n",
       "\\item 63770.42801\n",
       "\\end{enumerate*}\n"
      ],
      "text/markdown": [
       "1. 25168.629802\n",
       "2. 34819.079354\n",
       "3. 44469.528906\n",
       "4. 54119.978458\n",
       "5. 63770.42801\n",
       "\n",
       "\n"
      ],
      "text/plain": [
       "[1] 25168.63 34819.08 44469.53 54119.98 63770.43"
      ]
     },
     "metadata": {},
     "output_type": "display_data"
    }
   ],
   "source": [
    "values <- as.numeric(bucket_v)\n",
    "values"
   ]
  },
  {
   "cell_type": "code",
   "execution_count": 112,
   "id": "e5991b0f",
   "metadata": {},
   "outputs": [],
   "source": [
    "b1_count <- count(filter(df_smokers_bmi, charges>values[1] & charges<values[2]))\n",
    "b2_count <- count(filter(df_smokers_bmi, charges>values[2] & charges<values[3]))\n",
    "b3_count <- count(filter(df_smokers_bmi, charges>values[3] & charges<values[4]))\n",
    "b4_count <- count(filter(df_smokers_bmi, charges>values[4] & charges<values[5]))\n",
    "count_smokers <- c(b1_count, b2_count, b3_count, b4_count)"
   ]
  },
  {
   "cell_type": "markdown",
   "id": "85c054bb",
   "metadata": {},
   "source": [
    "**Liczba palaczy w konkretnym pojemniku**"
   ]
  },
  {
   "cell_type": "code",
   "execution_count": 113,
   "id": "e90d0dbd",
   "metadata": {
    "scrolled": true
   },
   "outputs": [
    {
     "data": {
      "text/html": [
       "<ol class=list-inline>\n",
       "\t<li>31</li>\n",
       "\t<li>90</li>\n",
       "\t<li>36</li>\n",
       "\t<li>5</li>\n",
       "</ol>\n"
      ],
      "text/latex": [
       "\\begin{enumerate*}\n",
       "\\item 31\n",
       "\\item 90\n",
       "\\item 36\n",
       "\\item 5\n",
       "\\end{enumerate*}\n"
      ],
      "text/markdown": [
       "1. 31\n",
       "2. 90\n",
       "3. 36\n",
       "4. 5\n",
       "\n",
       "\n"
      ],
      "text/plain": [
       "[1] 31 90 36  5"
      ]
     },
     "metadata": {},
     "output_type": "display_data"
    }
   ],
   "source": [
    "count_smokers <- as.numeric(count_smokers)\n",
    "count_smokers"
   ]
  },
  {
   "cell_type": "markdown",
   "id": "ad1ad79a",
   "metadata": {},
   "source": [
    "**Import palety barw**"
   ]
  },
  {
   "cell_type": "code",
   "execution_count": 114,
   "id": "8bbe4092",
   "metadata": {},
   "outputs": [],
   "source": [
    "library(\"RColorBrewer\")"
   ]
  },
  {
   "cell_type": "code",
   "execution_count": 115,
   "id": "b83617e1",
   "metadata": {},
   "outputs": [
    {
     "data": {
      "image/png": "[encoded data removed]",
      "text/plain": [
       "Plot with title \"Ilość palaczy według poziomu płaconego ubezpieczenia\""
      ]
     },
     "metadata": {},
     "output_type": "display_data"
    }
   ],
   "source": [
    "barplot(\n",
    "    count_smokers,\n",
    "    values,\n",
    "    main = \"Ilość palaczy według poziomu płaconego ubezpieczenia\",\n",
    "    ylab = \"Ilość palaczy\",\n",
    "    xlab = \"Bucket\",\n",
    "    col  = brewer.pal(n = 3, name = \"RdBu\")\n",
    ")"
   ]
  },
  {
   "cell_type": "markdown",
   "id": "aae93183",
   "metadata": {},
   "source": [
    "# Najdroższe 10 ubezpieczeń\n",
    "**Wojciech Harmata**"
   ]
  },
  {
   "cell_type": "code",
   "execution_count": 116,
   "id": "ec464414",
   "metadata": {},
   "outputs": [
    {
     "data": {
      "text/html": [
       "<table>\n",
       "<thead><tr><th></th><th scope=col>age</th><th scope=col>sex</th><th scope=col>bmi</th><th scope=col>children</th><th scope=col>smoker</th><th scope=col>region</th><th scope=col>charges</th></tr></thead>\n",
       "<tbody>\n",
       "\t<tr><th scope=row>544</th><td>54       </td><td>female   </td><td>47.410   </td><td>0        </td><td>yes      </td><td>southeast</td><td>63770.43 </td></tr>\n",
       "\t<tr><th scope=row>1301</th><td>45       </td><td>male     </td><td>30.360   </td><td>0        </td><td>yes      </td><td>southeast</td><td>62592.87 </td></tr>\n",
       "\t<tr><th scope=row>1231</th><td>52       </td><td>male     </td><td>34.485   </td><td>3        </td><td>yes      </td><td>northwest</td><td>60021.40 </td></tr>\n",
       "\t<tr><th scope=row>578</th><td>31       </td><td>female   </td><td>38.095   </td><td>1        </td><td>yes      </td><td>northeast</td><td>58571.07 </td></tr>\n",
       "\t<tr><th scope=row>820</th><td>33       </td><td>female   </td><td>35.530   </td><td>0        </td><td>yes      </td><td>northwest</td><td>55135.40 </td></tr>\n",
       "\t<tr><th scope=row>1147</th><td>60       </td><td>male     </td><td>32.800   </td><td>0        </td><td>yes      </td><td>southwest</td><td>52590.83 </td></tr>\n",
       "\t<tr><th scope=row>35</th><td>28       </td><td>male     </td><td>36.400   </td><td>1        </td><td>yes      </td><td>southwest</td><td>51194.56 </td></tr>\n",
       "\t<tr><th scope=row>1242</th><td>64       </td><td>male     </td><td>36.960   </td><td>2        </td><td>yes      </td><td>southeast</td><td>49577.66 </td></tr>\n",
       "\t<tr><th scope=row>1063</th><td>59       </td><td>male     </td><td>41.140   </td><td>1        </td><td>yes      </td><td>southeast</td><td>48970.25 </td></tr>\n",
       "\t<tr><th scope=row>489</th><td>44       </td><td>female   </td><td>38.060   </td><td>0        </td><td>yes      </td><td>southeast</td><td>48885.14 </td></tr>\n",
       "</tbody>\n",
       "</table>\n"
      ],
      "text/latex": [
       "\\begin{tabular}{r|lllllll}\n",
       "  & age & sex & bmi & children & smoker & region & charges\\\\\n",
       "\\hline\n",
       "\t544 & 54        & female    & 47.410    & 0         & yes       & southeast & 63770.43 \\\\\n",
       "\t1301 & 45        & male      & 30.360    & 0         & yes       & southeast & 62592.87 \\\\\n",
       "\t1231 & 52        & male      & 34.485    & 3         & yes       & northwest & 60021.40 \\\\\n",
       "\t578 & 31        & female    & 38.095    & 1         & yes       & northeast & 58571.07 \\\\\n",
       "\t820 & 33        & female    & 35.530    & 0         & yes       & northwest & 55135.40 \\\\\n",
       "\t1147 & 60        & male      & 32.800    & 0         & yes       & southwest & 52590.83 \\\\\n",
       "\t35 & 28        & male      & 36.400    & 1         & yes       & southwest & 51194.56 \\\\\n",
       "\t1242 & 64        & male      & 36.960    & 2         & yes       & southeast & 49577.66 \\\\\n",
       "\t1063 & 59        & male      & 41.140    & 1         & yes       & southeast & 48970.25 \\\\\n",
       "\t489 & 44        & female    & 38.060    & 0         & yes       & southeast & 48885.14 \\\\\n",
       "\\end{tabular}\n"
      ],
      "text/markdown": [
       "\n",
       "| <!--/--> | age | sex | bmi | children | smoker | region | charges |\n",
       "|---|---|---|---|---|---|---|---|\n",
       "| 544 | 54        | female    | 47.410    | 0         | yes       | southeast | 63770.43  |\n",
       "| 1301 | 45        | male      | 30.360    | 0         | yes       | southeast | 62592.87  |\n",
       "| 1231 | 52        | male      | 34.485    | 3         | yes       | northwest | 60021.40  |\n",
       "| 578 | 31        | female    | 38.095    | 1         | yes       | northeast | 58571.07  |\n",
       "| 820 | 33        | female    | 35.530    | 0         | yes       | northwest | 55135.40  |\n",
       "| 1147 | 60        | male      | 32.800    | 0         | yes       | southwest | 52590.83  |\n",
       "| 35 | 28        | male      | 36.400    | 1         | yes       | southwest | 51194.56  |\n",
       "| 1242 | 64        | male      | 36.960    | 2         | yes       | southeast | 49577.66  |\n",
       "| 1063 | 59        | male      | 41.140    | 1         | yes       | southeast | 48970.25  |\n",
       "| 489 | 44        | female    | 38.060    | 0         | yes       | southeast | 48885.14  |\n",
       "\n"
      ],
      "text/plain": [
       "     age sex    bmi    children smoker region    charges \n",
       "544  54  female 47.410 0        yes    southeast 63770.43\n",
       "1301 45  male   30.360 0        yes    southeast 62592.87\n",
       "1231 52  male   34.485 3        yes    northwest 60021.40\n",
       "578  31  female 38.095 1        yes    northeast 58571.07\n",
       "820  33  female 35.530 0        yes    northwest 55135.40\n",
       "1147 60  male   32.800 0        yes    southwest 52590.83\n",
       "35   28  male   36.400 1        yes    southwest 51194.56\n",
       "1242 64  male   36.960 2        yes    southeast 49577.66\n",
       "1063 59  male   41.140 1        yes    southeast 48970.25\n",
       "489  44  female 38.060 0        yes    southeast 48885.14"
      ]
     },
     "metadata": {},
     "output_type": "display_data"
    }
   ],
   "source": [
    "sorted_df <- head(df[order(df$charges, decreasing=TRUE), ], 10)\n",
    "sorted_df"
   ]
  },
  {
   "cell_type": "markdown",
   "id": "bbea8363",
   "metadata": {},
   "source": [
    "**Agregacja pod względem płci**"
   ]
  },
  {
   "cell_type": "code",
   "execution_count": 117,
   "id": "5686ac48",
   "metadata": {},
   "outputs": [],
   "source": [
    "sex_aggregation <- aggregate(\n",
    "    sorted_df[,c(1,3,4,7)],\n",
    "    by = list(sorted_df$sex),\n",
    "    FUN = \"mean\"\n",
    "    )\n",
    "colnames(sex_aggregation) <- c(\"sex\",colnames(sorted_df[,c(1,3,4,7)]))"
   ]
  },
  {
   "cell_type": "code",
   "execution_count": 118,
   "id": "0104625d",
   "metadata": {},
   "outputs": [
    {
     "data": {
      "text/html": [
       "<table>\n",
       "<thead><tr><th scope=col>sex</th><th scope=col>age</th><th scope=col>bmi</th><th scope=col>children</th><th scope=col>charges</th></tr></thead>\n",
       "<tbody>\n",
       "\t<tr><td>female  </td><td>40.50000</td><td>39.77375</td><td>0.250000</td><td>56590.51</td></tr>\n",
       "\t<tr><td>male    </td><td>51.33333</td><td>35.35750</td><td>1.166667</td><td>54157.93</td></tr>\n",
       "</tbody>\n",
       "</table>\n"
      ],
      "text/latex": [
       "\\begin{tabular}{r|lllll}\n",
       " sex & age & bmi & children & charges\\\\\n",
       "\\hline\n",
       "\t female   & 40.50000 & 39.77375 & 0.250000 & 56590.51\\\\\n",
       "\t male     & 51.33333 & 35.35750 & 1.166667 & 54157.93\\\\\n",
       "\\end{tabular}\n"
      ],
      "text/markdown": [
       "\n",
       "| sex | age | bmi | children | charges |\n",
       "|---|---|---|---|---|\n",
       "| female   | 40.50000 | 39.77375 | 0.250000 | 56590.51 |\n",
       "| male     | 51.33333 | 35.35750 | 1.166667 | 54157.93 |\n",
       "\n"
      ],
      "text/plain": [
       "  sex    age      bmi      children charges \n",
       "1 female 40.50000 39.77375 0.250000 56590.51\n",
       "2 male   51.33333 35.35750 1.166667 54157.93"
      ]
     },
     "metadata": {},
     "output_type": "display_data"
    }
   ],
   "source": [
    "sex_aggregation"
   ]
  },
  {
   "cell_type": "markdown",
   "id": "a970370f",
   "metadata": {},
   "source": [
    "# Średnia wysokość ubezpieczenia względem wieku\n",
    "**Filip Koźlik**"
   ]
  },
  {
   "cell_type": "code",
   "execution_count": 119,
   "id": "930073a2",
   "metadata": {},
   "outputs": [],
   "source": [
    "age_aggregation <- aggregate(\n",
    "    df[ ,7],\n",
    "    by = list(df$age),\n",
    "    FUN = \"mean\"\n",
    ")\n",
    "colnames(age_aggregation) <- c(\"age\", \"mean_of_charges\")"
   ]
  },
  {
   "cell_type": "code",
   "execution_count": 120,
   "id": "2b7ca4d0",
   "metadata": {},
   "outputs": [
    {
     "data": {
      "text/html": [
       "<table>\n",
       "<thead><tr><th scope=col>age</th><th scope=col>mean_of_charges</th></tr></thead>\n",
       "<tbody>\n",
       "\t<tr><td>18       </td><td> 7086.218</td></tr>\n",
       "\t<tr><td>19       </td><td> 9747.909</td></tr>\n",
       "\t<tr><td>20       </td><td>10159.698</td></tr>\n",
       "\t<tr><td>21       </td><td> 4730.464</td></tr>\n",
       "\t<tr><td>22       </td><td>10012.933</td></tr>\n",
       "\t<tr><td>23       </td><td>12419.820</td></tr>\n",
       "</tbody>\n",
       "</table>\n"
      ],
      "text/latex": [
       "\\begin{tabular}{r|ll}\n",
       " age & mean\\_of\\_charges\\\\\n",
       "\\hline\n",
       "\t 18        &  7086.218\\\\\n",
       "\t 19        &  9747.909\\\\\n",
       "\t 20        & 10159.698\\\\\n",
       "\t 21        &  4730.464\\\\\n",
       "\t 22        & 10012.933\\\\\n",
       "\t 23        & 12419.820\\\\\n",
       "\\end{tabular}\n"
      ],
      "text/markdown": [
       "\n",
       "| age | mean_of_charges |\n",
       "|---|---|\n",
       "| 18        |  7086.218 |\n",
       "| 19        |  9747.909 |\n",
       "| 20        | 10159.698 |\n",
       "| 21        |  4730.464 |\n",
       "| 22        | 10012.933 |\n",
       "| 23        | 12419.820 |\n",
       "\n"
      ],
      "text/plain": [
       "  age mean_of_charges\n",
       "1 18   7086.218      \n",
       "2 19   9747.909      \n",
       "3 20  10159.698      \n",
       "4 21   4730.464      \n",
       "5 22  10012.933      \n",
       "6 23  12419.820      "
      ]
     },
     "metadata": {},
     "output_type": "display_data"
    }
   ],
   "source": [
    "head(age_aggregation)"
   ]
  },
  {
   "cell_type": "markdown",
   "id": "4f987320",
   "metadata": {},
   "source": [
    "**Załączenie modułu tidyverse**"
   ]
  },
  {
   "cell_type": "code",
   "execution_count": 121,
   "id": "041650c0",
   "metadata": {},
   "outputs": [],
   "source": [
    "library(tidyverse)"
   ]
  },
  {
   "cell_type": "markdown",
   "id": "9acbd6af",
   "metadata": {},
   "source": [
    "**Wykres średniej kwoty ubezpieczenia od wieku i prostej regresji**"
   ]
  },
  {
   "cell_type": "code",
   "execution_count": 122,
   "id": "b5c94397",
   "metadata": {},
   "outputs": [
    {
     "data": {
      "image/png": "[encoded data removed]",
      "text/plain": [
       "plot without title"
      ]
     },
     "metadata": {},
     "output_type": "display_data"
    }
   ],
   "source": [
    "plot = ggplot(age_aggregation, aes(age_aggregation[,1],age_aggregation[,2], color=age_aggregation$age)) \n",
    "plot + geom_line() + labs(title=\"Zależność wieku od średniej kwoty ubezpieczenia\", x=\"age\", y=\"mean of charges\") +\n",
    "geom_smooth(color = \"red\", method = \"lm\", se = FALSE) + theme(legend.position = \"none\")"
   ]
  },
  {
   "cell_type": "markdown",
   "id": "b0ee08ec",
   "metadata": {},
   "source": [
    "# Średnie BMI względem wieku"
   ]
  },
  {
   "cell_type": "code",
   "execution_count": 123,
   "id": "20b30800",
   "metadata": {},
   "outputs": [],
   "source": [
    "bmi_aggregation <- aggregate(\n",
    "    df[,3],\n",
    "    by = list(df$age),\n",
    "    FUN = \"mean\"\n",
    ")\n",
    "colnames(bmi_aggregation) <- c(\"age\", \"average_bmi\")"
   ]
  },
  {
   "cell_type": "code",
   "execution_count": 124,
   "id": "6592e16d",
   "metadata": {},
   "outputs": [
    {
     "data": {
      "text/html": [
       "<table>\n",
       "<thead><tr><th scope=col>age</th><th scope=col>average_bmi</th></tr></thead>\n",
       "<tbody>\n",
       "\t<tr><td>18      </td><td>31.32616</td></tr>\n",
       "\t<tr><td>19      </td><td>28.59691</td></tr>\n",
       "\t<tr><td>20      </td><td>30.63276</td></tr>\n",
       "\t<tr><td>21      </td><td>28.18571</td></tr>\n",
       "\t<tr><td>22      </td><td>31.08768</td></tr>\n",
       "\t<tr><td>23      </td><td>31.45446</td></tr>\n",
       "</tbody>\n",
       "</table>\n"
      ],
      "text/latex": [
       "\\begin{tabular}{r|ll}\n",
       " age & average\\_bmi\\\\\n",
       "\\hline\n",
       "\t 18       & 31.32616\\\\\n",
       "\t 19       & 28.59691\\\\\n",
       "\t 20       & 30.63276\\\\\n",
       "\t 21       & 28.18571\\\\\n",
       "\t 22       & 31.08768\\\\\n",
       "\t 23       & 31.45446\\\\\n",
       "\\end{tabular}\n"
      ],
      "text/markdown": [
       "\n",
       "| age | average_bmi |\n",
       "|---|---|\n",
       "| 18       | 31.32616 |\n",
       "| 19       | 28.59691 |\n",
       "| 20       | 30.63276 |\n",
       "| 21       | 28.18571 |\n",
       "| 22       | 31.08768 |\n",
       "| 23       | 31.45446 |\n",
       "\n"
      ],
      "text/plain": [
       "  age average_bmi\n",
       "1 18  31.32616   \n",
       "2 19  28.59691   \n",
       "3 20  30.63276   \n",
       "4 21  28.18571   \n",
       "5 22  31.08768   \n",
       "6 23  31.45446   "
      ]
     },
     "metadata": {},
     "output_type": "display_data"
    }
   ],
   "source": [
    "head(bmi_aggregation)"
   ]
  },
  {
   "cell_type": "markdown",
   "id": "3bcb732a",
   "metadata": {},
   "source": [
    "**Wykres średniej wartości BMI względem wieku**"
   ]
  },
  {
   "cell_type": "code",
   "execution_count": 125,
   "id": "4a5a8e1b",
   "metadata": {},
   "outputs": [
    {
     "data": {
      "image/png": "[encoded data removed]",
      "text/plain": [
       "plot without title"
      ]
     },
     "metadata": {},
     "output_type": "display_data"
    }
   ],
   "source": [
    "plot = ggplot(bmi_aggregation, aes(bmi_aggregation[,1],bmi_aggregation[,2], color=bmi_aggregation$age)) \n",
    "plot + geom_line() + labs(title=\"Zależność wieku od średniego BMI\", x=\"age\", y=\"average value of BMI\") +\n",
    "geom_smooth(color = \"red\", method = \"lm\", se = FALSE) + theme(legend.position = \"none\")"
   ]
  },
  {
   "cell_type": "markdown",
   "id": "cb8b3c52",
   "metadata": {},
   "source": [
    "# **Średnia ilość posiadanych dzieci względem wieku**\n",
    "**Wojciech Kubak**"
   ]
  },
  {
   "cell_type": "markdown",
   "id": "635fb9c0",
   "metadata": {},
   "source": [
    "**Agregacja danych**"
   ]
  },
  {
   "cell_type": "code",
   "execution_count": 126,
   "id": "02a7f2a5",
   "metadata": {},
   "outputs": [
    {
     "data": {
      "text/html": [
       "<table>\n",
       "<thead><tr><th scope=col>age</th><th scope=col>average amount of having kids</th></tr></thead>\n",
       "<tbody>\n",
       "\t<tr><td>18       </td><td>0.4492754</td></tr>\n",
       "\t<tr><td>19       </td><td>0.4264706</td></tr>\n",
       "\t<tr><td>20       </td><td>0.8620690</td></tr>\n",
       "\t<tr><td>21       </td><td>0.7857143</td></tr>\n",
       "\t<tr><td>22       </td><td>0.7142857</td></tr>\n",
       "\t<tr><td>23       </td><td>1.0000000</td></tr>\n",
       "</tbody>\n",
       "</table>\n"
      ],
      "text/latex": [
       "\\begin{tabular}{r|ll}\n",
       " age & average amount of having kids\\\\\n",
       "\\hline\n",
       "\t 18        & 0.4492754\\\\\n",
       "\t 19        & 0.4264706\\\\\n",
       "\t 20        & 0.8620690\\\\\n",
       "\t 21        & 0.7857143\\\\\n",
       "\t 22        & 0.7142857\\\\\n",
       "\t 23        & 1.0000000\\\\\n",
       "\\end{tabular}\n"
      ],
      "text/markdown": [
       "\n",
       "| age | average amount of having kids |\n",
       "|---|---|\n",
       "| 18        | 0.4492754 |\n",
       "| 19        | 0.4264706 |\n",
       "| 20        | 0.8620690 |\n",
       "| 21        | 0.7857143 |\n",
       "| 22        | 0.7142857 |\n",
       "| 23        | 1.0000000 |\n",
       "\n"
      ],
      "text/plain": [
       "  age average amount of having kids\n",
       "1 18  0.4492754                    \n",
       "2 19  0.4264706                    \n",
       "3 20  0.8620690                    \n",
       "4 21  0.7857143                    \n",
       "5 22  0.7142857                    \n",
       "6 23  1.0000000                    "
      ]
     },
     "metadata": {},
     "output_type": "display_data"
    }
   ],
   "source": [
    "child_age_aggregation <- aggregate(\n",
    "    df[,4],\n",
    "    by = list(df$age),\n",
    "    FUN = \"mean\"\n",
    ")\n",
    "colnames(child_age_aggregation) <- c(\"age\", \"average amount of having kids\")\n",
    "head(child_age_aggregation)"
   ]
  },
  {
   "cell_type": "code",
   "execution_count": 127,
   "id": "780b0504",
   "metadata": {},
   "outputs": [
    {
     "data": {
      "image/png": "[encoded data removed]",
      "text/plain": [
       "plot without title"
      ]
     },
     "metadata": {},
     "output_type": "display_data"
    }
   ],
   "source": [
    "plot = ggplot(child_age_aggregation, aes(child_age_aggregation[,1],child_age_aggregation[,2])) \n",
    "plot + geom_line() + labs(title=\"Zależność ilości dzieci od średniego wieku\", x=\"age\", y=\"average amount of kids\") +\n",
    "theme(legend.position = \"none\")"
   ]
  },
  {
   "cell_type": "markdown",
   "id": "207e1a41",
   "metadata": {},
   "source": [
    "# Heatmapa korelacji zmiennych\n",
    "**Wojciech Kubak**"
   ]
  },
  {
   "cell_type": "code",
   "execution_count": 154,
   "id": "07ad8369",
   "metadata": {},
   "outputs": [],
   "source": [
    "library(dplyr)\n",
    "require(plyr)"
   ]
  },
  {
   "cell_type": "code",
   "execution_count": 163,
   "id": "d732df2b",
   "metadata": {},
   "outputs": [],
   "source": [
    "df_corr <- df"
   ]
  },
  {
   "cell_type": "markdown",
   "id": "7a0246cf",
   "metadata": {},
   "source": [
    "**Mapowanie wartości tekstowych na liczbowe**"
   ]
  },
  {
   "cell_type": "code",
   "execution_count": 164,
   "id": "218f23bd",
   "metadata": {},
   "outputs": [],
   "source": [
    "df_corr$sex <- mapvalues(df_corr$sex, from = c('female','male'), to = c(0,1))\n",
    "df_corr$smoker <- mapvalues(df_corr$smoker, from = c('no','yes'), to = c(0,1))\n",
    "\n",
    "df_corr <- df_corr[, c(1:5,7)]"
   ]
  },
  {
   "cell_type": "markdown",
   "id": "4822e904",
   "metadata": {},
   "source": [
    "**Zmiana typu kolumny**"
   ]
  },
  {
   "cell_type": "code",
   "execution_count": 165,
   "id": "c71444c3",
   "metadata": {},
   "outputs": [],
   "source": [
    "df_corr$sex <- as.numeric(df_corr$sex)\n",
    "df_corr$smoker <- as.numeric(df_corr$smoker)"
   ]
  },
  {
   "cell_type": "code",
   "execution_count": 166,
   "id": "d4d6c523",
   "metadata": {},
   "outputs": [
    {
     "data": {
      "text/plain": [
       "      age             sex              bmi           children    \n",
       " Min.   :18.00   Min.   :0.0000   Min.   :15.96   Min.   :0.000  \n",
       " 1st Qu.:27.00   1st Qu.:0.0000   1st Qu.:26.30   1st Qu.:0.000  \n",
       " Median :39.00   Median :1.0000   Median :30.40   Median :1.000  \n",
       " Mean   :39.21   Mean   :0.5052   Mean   :30.66   Mean   :1.095  \n",
       " 3rd Qu.:51.00   3rd Qu.:1.0000   3rd Qu.:34.69   3rd Qu.:2.000  \n",
       " Max.   :64.00   Max.   :1.0000   Max.   :53.13   Max.   :5.000  \n",
       "     smoker          charges     \n",
       " Min.   :0.0000   Min.   : 1122  \n",
       " 1st Qu.:0.0000   1st Qu.: 4740  \n",
       " Median :0.0000   Median : 9382  \n",
       " Mean   :0.2048   Mean   :13270  \n",
       " 3rd Qu.:0.0000   3rd Qu.:16640  \n",
       " Max.   :1.0000   Max.   :63770  "
      ]
     },
     "metadata": {},
     "output_type": "display_data"
    }
   ],
   "source": [
    "summary(df_corr)"
   ]
  },
  {
   "cell_type": "code",
   "execution_count": 168,
   "id": "d2c7d21b",
   "metadata": {},
   "outputs": [
    {
     "data": {
      "text/html": [
       "<table>\n",
       "<thead><tr><th scope=col>age</th><th scope=col>sex</th><th scope=col>bmi</th><th scope=col>children</th><th scope=col>smoker</th><th scope=col>charges</th></tr></thead>\n",
       "<tbody>\n",
       "\t<tr><td>19       </td><td>0        </td><td>27.900   </td><td>0        </td><td>1        </td><td>16884.924</td></tr>\n",
       "\t<tr><td>18       </td><td>1        </td><td>33.770   </td><td>1        </td><td>0        </td><td> 1725.552</td></tr>\n",
       "\t<tr><td>28       </td><td>1        </td><td>33.000   </td><td>3        </td><td>0        </td><td> 4449.462</td></tr>\n",
       "\t<tr><td>33       </td><td>1        </td><td>22.705   </td><td>0        </td><td>0        </td><td>21984.471</td></tr>\n",
       "\t<tr><td>32       </td><td>1        </td><td>28.880   </td><td>0        </td><td>0        </td><td> 3866.855</td></tr>\n",
       "\t<tr><td>31       </td><td>0        </td><td>25.740   </td><td>0        </td><td>0        </td><td> 3756.622</td></tr>\n",
       "</tbody>\n",
       "</table>\n"
      ],
      "text/latex": [
       "\\begin{tabular}{r|llllll}\n",
       " age & sex & bmi & children & smoker & charges\\\\\n",
       "\\hline\n",
       "\t 19        & 0         & 27.900    & 0         & 1         & 16884.924\\\\\n",
       "\t 18        & 1         & 33.770    & 1         & 0         &  1725.552\\\\\n",
       "\t 28        & 1         & 33.000    & 3         & 0         &  4449.462\\\\\n",
       "\t 33        & 1         & 22.705    & 0         & 0         & 21984.471\\\\\n",
       "\t 32        & 1         & 28.880    & 0         & 0         &  3866.855\\\\\n",
       "\t 31        & 0         & 25.740    & 0         & 0         &  3756.622\\\\\n",
       "\\end{tabular}\n"
      ],
      "text/markdown": [
       "\n",
       "| age | sex | bmi | children | smoker | charges |\n",
       "|---|---|---|---|---|---|\n",
       "| 19        | 0         | 27.900    | 0         | 1         | 16884.924 |\n",
       "| 18        | 1         | 33.770    | 1         | 0         |  1725.552 |\n",
       "| 28        | 1         | 33.000    | 3         | 0         |  4449.462 |\n",
       "| 33        | 1         | 22.705    | 0         | 0         | 21984.471 |\n",
       "| 32        | 1         | 28.880    | 0         | 0         |  3866.855 |\n",
       "| 31        | 0         | 25.740    | 0         | 0         |  3756.622 |\n",
       "\n"
      ],
      "text/plain": [
       "  age sex bmi    children smoker charges  \n",
       "1 19  0   27.900 0        1      16884.924\n",
       "2 18  1   33.770 1        0       1725.552\n",
       "3 28  1   33.000 3        0       4449.462\n",
       "4 33  1   22.705 0        0      21984.471\n",
       "5 32  1   28.880 0        0       3866.855\n",
       "6 31  0   25.740 0        0       3756.622"
      ]
     },
     "metadata": {},
     "output_type": "display_data"
    }
   ],
   "source": [
    "head(df_corr)"
   ]
  },
  {
   "cell_type": "code",
   "execution_count": 169,
   "id": "678d3e8d",
   "metadata": {},
   "outputs": [],
   "source": [
    "cormat <- round(cor(df_corr),2)"
   ]
  },
  {
   "cell_type": "code",
   "execution_count": 170,
   "id": "72fe9dfb",
   "metadata": {},
   "outputs": [
    {
     "data": {
      "text/html": [
       "<table>\n",
       "<thead><tr><th></th><th scope=col>age</th><th scope=col>sex</th><th scope=col>bmi</th><th scope=col>children</th><th scope=col>smoker</th><th scope=col>charges</th></tr></thead>\n",
       "<tbody>\n",
       "\t<tr><th scope=row>age</th><td> 1.00</td><td>-0.02</td><td>0.11 </td><td>0.04 </td><td>-0.03</td><td>0.30 </td></tr>\n",
       "\t<tr><th scope=row>sex</th><td>-0.02</td><td> 1.00</td><td>0.05 </td><td>0.02 </td><td> 0.08</td><td>0.06 </td></tr>\n",
       "\t<tr><th scope=row>bmi</th><td> 0.11</td><td> 0.05</td><td>1.00 </td><td>0.01 </td><td> 0.00</td><td>0.20 </td></tr>\n",
       "\t<tr><th scope=row>children</th><td> 0.04</td><td> 0.02</td><td>0.01 </td><td>1.00 </td><td> 0.01</td><td>0.07 </td></tr>\n",
       "\t<tr><th scope=row>smoker</th><td>-0.03</td><td> 0.08</td><td>0.00 </td><td>0.01 </td><td> 1.00</td><td>0.79 </td></tr>\n",
       "\t<tr><th scope=row>charges</th><td> 0.30</td><td> 0.06</td><td>0.20 </td><td>0.07 </td><td> 0.79</td><td>1.00 </td></tr>\n",
       "</tbody>\n",
       "</table>\n"
      ],
      "text/latex": [
       "\\begin{tabular}{r|llllll}\n",
       "  & age & sex & bmi & children & smoker & charges\\\\\n",
       "\\hline\n",
       "\tage &  1.00 & -0.02 & 0.11  & 0.04  & -0.03 & 0.30 \\\\\n",
       "\tsex & -0.02 &  1.00 & 0.05  & 0.02  &  0.08 & 0.06 \\\\\n",
       "\tbmi &  0.11 &  0.05 & 1.00  & 0.01  &  0.00 & 0.20 \\\\\n",
       "\tchildren &  0.04 &  0.02 & 0.01  & 1.00  &  0.01 & 0.07 \\\\\n",
       "\tsmoker & -0.03 &  0.08 & 0.00  & 0.01  &  1.00 & 0.79 \\\\\n",
       "\tcharges &  0.30 &  0.06 & 0.20  & 0.07  &  0.79 & 1.00 \\\\\n",
       "\\end{tabular}\n"
      ],
      "text/markdown": [
       "\n",
       "| <!--/--> | age | sex | bmi | children | smoker | charges |\n",
       "|---|---|---|---|---|---|---|\n",
       "| age |  1.00 | -0.02 | 0.11  | 0.04  | -0.03 | 0.30  |\n",
       "| sex | -0.02 |  1.00 | 0.05  | 0.02  |  0.08 | 0.06  |\n",
       "| bmi |  0.11 |  0.05 | 1.00  | 0.01  |  0.00 | 0.20  |\n",
       "| children |  0.04 |  0.02 | 0.01  | 1.00  |  0.01 | 0.07  |\n",
       "| smoker | -0.03 |  0.08 | 0.00  | 0.01  |  1.00 | 0.79  |\n",
       "| charges |  0.30 |  0.06 | 0.20  | 0.07  |  0.79 | 1.00  |\n",
       "\n"
      ],
      "text/plain": [
       "         age   sex   bmi  children smoker charges\n",
       "age       1.00 -0.02 0.11 0.04     -0.03  0.30   \n",
       "sex      -0.02  1.00 0.05 0.02      0.08  0.06   \n",
       "bmi       0.11  0.05 1.00 0.01      0.00  0.20   \n",
       "children  0.04  0.02 0.01 1.00      0.01  0.07   \n",
       "smoker   -0.03  0.08 0.00 0.01      1.00  0.79   \n",
       "charges   0.30  0.06 0.20 0.07      0.79  1.00   "
      ]
     },
     "metadata": {},
     "output_type": "display_data"
    }
   ],
   "source": [
    "cormat"
   ]
  },
  {
   "cell_type": "code",
   "execution_count": 171,
   "id": "303adce1",
   "metadata": {},
   "outputs": [
    {
     "name": "stderr",
     "output_type": "stream",
     "text": [
      "\n",
      "Attaching package: 'reshape2'\n",
      "\n",
      "The following object is masked from 'package:tidyr':\n",
      "\n",
      "    smiths\n",
      "\n"
     ]
    },
    {
     "data": {
      "text/html": [
       "<table>\n",
       "<thead><tr><th scope=col>Var1</th><th scope=col>Var2</th><th scope=col>value</th></tr></thead>\n",
       "<tbody>\n",
       "\t<tr><td>age     </td><td>age     </td><td> 1.00   </td></tr>\n",
       "\t<tr><td>sex     </td><td>age     </td><td>-0.02   </td></tr>\n",
       "\t<tr><td>bmi     </td><td>age     </td><td> 0.11   </td></tr>\n",
       "\t<tr><td>children</td><td>age     </td><td> 0.04   </td></tr>\n",
       "\t<tr><td>smoker  </td><td>age     </td><td>-0.03   </td></tr>\n",
       "\t<tr><td>charges </td><td>age     </td><td> 0.30   </td></tr>\n",
       "</tbody>\n",
       "</table>\n"
      ],
      "text/latex": [
       "\\begin{tabular}{r|lll}\n",
       " Var1 & Var2 & value\\\\\n",
       "\\hline\n",
       "\t age      & age      &  1.00   \\\\\n",
       "\t sex      & age      & -0.02   \\\\\n",
       "\t bmi      & age      &  0.11   \\\\\n",
       "\t children & age      &  0.04   \\\\\n",
       "\t smoker   & age      & -0.03   \\\\\n",
       "\t charges  & age      &  0.30   \\\\\n",
       "\\end{tabular}\n"
      ],
      "text/markdown": [
       "\n",
       "| Var1 | Var2 | value |\n",
       "|---|---|---|\n",
       "| age      | age      |  1.00    |\n",
       "| sex      | age      | -0.02    |\n",
       "| bmi      | age      |  0.11    |\n",
       "| children | age      |  0.04    |\n",
       "| smoker   | age      | -0.03    |\n",
       "| charges  | age      |  0.30    |\n",
       "\n"
      ],
      "text/plain": [
       "  Var1     Var2 value\n",
       "1 age      age   1.00\n",
       "2 sex      age  -0.02\n",
       "3 bmi      age   0.11\n",
       "4 children age   0.04\n",
       "5 smoker   age  -0.03\n",
       "6 charges  age   0.30"
      ]
     },
     "metadata": {},
     "output_type": "display_data"
    }
   ],
   "source": [
    "library(reshape2)\n",
    "melted_cormat <- melt(cormat)\n",
    "head(melted_cormat)"
   ]
  },
  {
   "cell_type": "markdown",
   "id": "77152605",
   "metadata": {},
   "source": [
    "**Utworzenie heatmapy z pomocą modułu ggplot2**"
   ]
  },
  {
   "cell_type": "code",
   "execution_count": 172,
   "id": "71b93121",
   "metadata": {},
   "outputs": [
    {
     "data": {
      "image/png": "[encoded data removed]",
      "text/plain": [
       "plot without title"
      ]
     },
     "metadata": {},
     "output_type": "display_data"
    }
   ],
   "source": [
    "library(ggplot2)\n",
    "ggplot(data = melted_cormat, aes(x=Var1, y=Var2, fill=value)) + \n",
    "  geom_tile()"
   ]
  },
  {
   "cell_type": "code",
   "execution_count": null,
   "id": "0941134a",
   "metadata": {},
   "outputs": [],
   "source": []
  }
 ],
 "metadata": {
  "kernelspec": {
   "display_name": "R",
   "language": "R",
   "name": "ir"
  },
  "language_info": {
   "codemirror_mode": "r",
   "file_extension": ".r",
   "mimetype": "text/x-r-source",
   "name": "R",
   "pygments_lexer": "r",
   "version": "3.6.1"
  }
 },
 "nbformat": 4,
 "nbformat_minor": 5
}
